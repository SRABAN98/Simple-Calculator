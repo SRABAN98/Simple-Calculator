{
 "cells": [
  {
   "cell_type": "code",
   "execution_count": null,
   "id": "4800453f",
   "metadata": {},
   "outputs": [],
   "source": [
    "print(\"Welcome to MR.SRABAN's Super Calculator\")\n",
    "print()\n",
    "print()\n",
    "print(\"Below operations you can perform using my calculator !!\")\n",
    "print()\n",
    "print()\n",
    "print(\"1.Addition\")\n",
    "print(\"2.Substraction\")\n",
    "print(\"3.Multiplication\")\n",
    "print(\"4.Division\")\n",
    "print(\"5.Modulos\")\n",
    "print(\"6.Exponential\")\n",
    "print(\"7.Fioor Division\")\n",
    "print()\n",
    "print()\n",
    "ch = int(input(\"Which number operation do you want to perform(1-7): \"))\n",
    "print()\n",
    "if ch == 1:\n",
    "    x = float(input(\"Enter first number : \"))\n",
    "    y = float(input(\"Enter second number : \"))\n",
    "    z = x+y\n",
    "    print(\"x+y = \",z)\n",
    "elif ch == 2:\n",
    "    x = float(input(\"Enter first number : \"))\n",
    "    y = float(input(\"Enter second number : \"))\n",
    "    z = x-y\n",
    "    print(\"x-y = \",z)\n",
    "elif  ch == 3:\n",
    "    x = float(input(\"Enter first number : \"))\n",
    "    y = float(input(\"Enter second number : \"))\n",
    "    z = x*y\n",
    "    print(\"x*y = \",z)\n",
    "elif ch == 4:\n",
    "    x = float(input(\"Enter first number : \"))\n",
    "    y = float(input(\"Enter second number : \"))\n",
    "    z = x/y\n",
    "    print(\"x/y = \",z)\n",
    "elif ch == 5:\n",
    "    x = float(input(\"Enter first number : \"))\n",
    "    y = float(input(\"Enter second number : \"))\n",
    "    z = x%y\n",
    "    print(\"x%y = \",z)\n",
    "elif ch == 6:\n",
    "    x = float(input(\"Enter first number : \"))\n",
    "    y = float(input(\"Enter second number : \"))\n",
    "    z = x**y\n",
    "    print(\"x**y = \",z)\n",
    "elif ch == 7:\n",
    "    x = float(input(\"Enter first number : \"))\n",
    "    y = float(input(\"Enter second number : \"))\n",
    "    z = x//y\n",
    "    print(\"x//y = \",z)\n",
    "else:\n",
    "    print(\"Invalid Choice\")"
   ]
  },
  {
   "cell_type": "code",
   "execution_count": null,
   "id": "7c0ee090",
   "metadata": {},
   "outputs": [],
   "source": []
  }
 ],
 "metadata": {
  "kernelspec": {
   "display_name": "Python 3 (ipykernel)",
   "language": "python",
   "name": "python3"
  },
  "language_info": {
   "codemirror_mode": {
    "name": "ipython",
    "version": 3
   },
   "file_extension": ".py",
   "mimetype": "text/x-python",
   "name": "python",
   "nbconvert_exporter": "python",
   "pygments_lexer": "ipython3",
   "version": "3.10.6"
  }
 },
 "nbformat": 4,
 "nbformat_minor": 5
}
